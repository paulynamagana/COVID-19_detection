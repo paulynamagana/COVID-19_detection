{
 "cells": [
  {
   "cell_type": "code",
   "execution_count": 1,
   "metadata": {},
   "outputs": [],
   "source": [
    "#!pip install split-folders"
   ]
  },
  {
   "cell_type": "code",
   "execution_count": 2,
   "metadata": {},
   "outputs": [],
   "source": [
    "#import split folders\n",
    "import splitfolders"
   ]
  },
  {
   "cell_type": "code",
   "execution_count": 3,
   "metadata": {},
   "outputs": [],
   "source": [
    "#split the data we have from the data folder (covid and non_covid)\n",
    "#ratio = (train, validation, test)\n",
    "splitfolders.ratio(input=\"./data/\",\n",
    "                    output=\"./output\", seed=2021,\n",
    "                    ratio=(0.7,0.15,0.15))"
   ]
  },
  {
   "cell_type": "code",
   "execution_count": 4,
   "metadata": {},
   "outputs": [],
   "source": [
    "#import libraries\n",
    "import keras\n",
    "import tensorflow\n",
    "import matplotlib.pyplot as plt\n",
    "from keras.layers import Dense, GlobalAveragePooling2D, Dropout\n",
    "from keras.applications import densenet\n",
    "from keras.preprocessing.image import ImageDataGenerator\n",
    "from keras.models import Model\n",
    "from tensorflow.keras.optimizers import Adam\n",
    "from keras.callbacks import ModelCheckpoint, EarlyStopping\n",
    "\n",
    "from sklearn.metrics import confusion_matrix, classification_report\n",
    "\n",
    "import numpy as np"
   ]
  },
  {
   "cell_type": "code",
   "execution_count": 5,
   "metadata": {},
   "outputs": [],
   "source": [
    "#use transfer learning with DenseNet169\n",
    "\n",
    "base_model= densenet.DenseNet169(weights=\"imagenet\", include_top=False)\n",
    "\n",
    "x = base_model.output\n",
    "x = GlobalAveragePooling2D()(x)\n",
    "x = Dropout(0.5)(x)\n",
    "\n",
    "preds = Dense(2, activation=\"sigmoid\")(x)\n",
    "\n",
    "model= Model(inputs= base_model.input, outputs=preds)"
   ]
  },
  {
   "cell_type": "code",
   "execution_count": 6,
   "metadata": {},
   "outputs": [],
   "source": [
    "# declare batch size\n",
    "BATCH_SIZE = 16"
   ]
  },
  {
   "cell_type": "code",
   "execution_count": 7,
   "metadata": {},
   "outputs": [],
   "source": [
    "# imagedatagenerator objects\n",
    "\n",
    "train_datagen = ImageDataGenerator(rescale=1./255,\n",
    "shear_range=0.2,\n",
    "zoom_range=0.2,\n",
    "brightness_range=[0.2,1.0],\n",
    "horizontal_flip=True)\n",
    "\n",
    "\n",
    "test_datagen = ImageDataGenerator(rescale=1./255)"
   ]
  },
  {
   "cell_type": "code",
   "execution_count": 8,
   "metadata": {},
   "outputs": [
    {
     "name": "stdout",
     "output_type": "stream",
     "text": [
      "Found 521 images belonging to 2 classes.\n"
     ]
    }
   ],
   "source": [
    "# create train generators\n",
    "\n",
    "train_generator = train_datagen.flow_from_directory(\"./output/train\",\n",
    "                                                    target_size=(480, 480),\n",
    "                                                    color_mode=\"rgb\",\n",
    "                                                    batch_size=BATCH_SIZE,\n",
    "                                                    class_mode=\"categorical\",\n",
    "                                                    shuffle=True)\n"
   ]
  },
  {
   "cell_type": "code",
   "execution_count": 9,
   "metadata": {},
   "outputs": [
    {
     "name": "stdout",
     "output_type": "stream",
     "text": [
      "Found 111 images belonging to 2 classes.\n"
     ]
    }
   ],
   "source": [
    "# create val generators\n",
    "\n",
    "val_generator = train_datagen.flow_from_directory(\"./output/val\",\n",
    "                                                    target_size=(480, 480),\n",
    "                                                    color_mode=\"rgb\",\n",
    "                                                    batch_size=BATCH_SIZE,\n",
    "                                                    class_mode=\"categorical\",\n",
    "                                                    shuffle=True)\n"
   ]
  },
  {
   "cell_type": "code",
   "execution_count": 10,
   "metadata": {},
   "outputs": [
    {
     "name": "stdout",
     "output_type": "stream",
     "text": [
      "Found 114 images belonging to 2 classes.\n"
     ]
    }
   ],
   "source": [
    "#test generator\n",
    "#do not shuffle\n",
    "\n",
    "test_generator = test_datagen.flow_from_directory(\"./output/test\",\n",
    "shuffle=False)"
   ]
  },
  {
   "cell_type": "code",
   "execution_count": 11,
   "metadata": {},
   "outputs": [],
   "source": [
    "#declare callbacks for our model training\n",
    "\n",
    "es= EarlyStopping(monitor=\"val_loss\", patience=3) #earlystop\n",
    "mc = ModelCheckpoint(\"./best_model.h5\",\n",
    "                        save_best_only=True) #checkopoint"
   ]
  },
  {
   "cell_type": "code",
   "execution_count": 12,
   "metadata": {},
   "outputs": [],
   "source": [
    "#compile model for training\n",
    "\n",
    "model.compile(optimizer= Adam(learning_rate=0.0001), loss= \"binary_crossentropy\", metrics=[\"accuracy\"])\n",
    "\n"
   ]
  },
  {
   "cell_type": "code",
   "execution_count": 13,
   "metadata": {},
   "outputs": [
    {
     "name": "stdout",
     "output_type": "stream",
     "text": [
      "Epoch 1/50\n",
      "32/32 [==============================] - 3277s 102s/step - loss: 0.6364 - accuracy: 0.6733 - val_loss: 0.6271 - val_accuracy: 0.6979\n",
      "Epoch 2/50\n",
      "32/32 [==============================] - 3336s 105s/step - loss: 0.4317 - accuracy: 0.8139 - val_loss: 0.5688 - val_accuracy: 0.7292\n",
      "Epoch 3/50\n",
      "32/32 [==============================] - 3385s 106s/step - loss: 0.3209 - accuracy: 0.8594 - val_loss: 0.6222 - val_accuracy: 0.7083\n",
      "Epoch 4/50\n",
      "32/32 [==============================] - 3296s 103s/step - loss: 0.2459 - accuracy: 0.8931 - val_loss: 0.3239 - val_accuracy: 0.8750\n",
      "Epoch 5/50\n",
      "32/32 [==============================] - 3445s 108s/step - loss: 0.2112 - accuracy: 0.9180 - val_loss: 0.4204 - val_accuracy: 0.7812\n",
      "Epoch 6/50\n",
      "32/32 [==============================] - 3425s 107s/step - loss: 0.2021 - accuracy: 0.9327 - val_loss: 0.2802 - val_accuracy: 0.8750\n",
      "Epoch 7/50\n",
      "32/32 [==============================] - 3431s 108s/step - loss: 0.1265 - accuracy: 0.9525 - val_loss: 0.4067 - val_accuracy: 0.8333\n",
      "Epoch 8/50\n",
      "32/32 [==============================] - 3420s 107s/step - loss: 0.0992 - accuracy: 0.9644 - val_loss: 0.2432 - val_accuracy: 0.8958\n",
      "Epoch 9/50\n",
      "32/32 [==============================] - 3457s 109s/step - loss: 0.0946 - accuracy: 0.9703 - val_loss: 0.1356 - val_accuracy: 0.9167\n",
      "Epoch 10/50\n",
      "32/32 [==============================] - 3473s 109s/step - loss: 0.1189 - accuracy: 0.9525 - val_loss: 0.2297 - val_accuracy: 0.9062\n",
      "Epoch 11/50\n",
      "32/32 [==============================] - 3452s 108s/step - loss: 0.0815 - accuracy: 0.9782 - val_loss: 0.1908 - val_accuracy: 0.9167\n",
      "Epoch 12/50\n",
      "32/32 [==============================] - 3460s 108s/step - loss: 0.0571 - accuracy: 0.9822 - val_loss: 0.1909 - val_accuracy: 0.9167\n"
     ]
    }
   ],
   "source": [
    "#train model\n",
    "\n",
    "history = model.fit(train_generator, steps_per_epoch=train_generator.samples // BATCH_SIZE,\n",
    "                    validation_data=val_generator,\n",
    "                    validation_steps=val_generator.samples // BATCH_SIZE,\n",
    "                    epochs=50,\n",
    "                    callbacks=[es, mc])\n"
   ]
  },
  {
   "cell_type": "code",
   "execution_count": 16,
   "metadata": {},
   "outputs": [
    {
     "data": {
      "text/plain": [
       "[<matplotlib.lines.Line2D at 0x230149aab80>]"
      ]
     },
     "execution_count": 16,
     "metadata": {},
     "output_type": "execute_result"
    },
    {
     "data": {
      "image/png": "[encoded data removed]",
      "text/plain": [
       "<Figure size 432x288 with 1 Axes>"
      ]
     },
     "metadata": {
      "needs_background": "light"
     },
     "output_type": "display_data"
    }
   ],
   "source": [
    "plt.plot(history.epoch, history.history[\"loss\"])\n",
    "plt.plot(history.epoch, history.history[\"val_loss\"], color= \"orange\")"
   ]
  },
  {
   "cell_type": "code",
   "execution_count": 17,
   "metadata": {},
   "outputs": [
    {
     "data": {
      "text/plain": [
       "[<matplotlib.lines.Line2D at 0x23014aa04c0>]"
      ]
     },
     "execution_count": 17,
     "metadata": {},
     "output_type": "execute_result"
    },
    {
     "data": {
      "image/png": "[encoded data removed]",
      "text/plain": [
       "<Figure size 432x288 with 1 Axes>"
      ]
     },
     "metadata": {
      "needs_background": "light"
     },
     "output_type": "display_data"
    }
   ],
   "source": [
    "plt.plot(history.epoch, history.history[\"accuracy\"])\n",
    "plt.plot(history.epoch, history.history[\"val_accuracy\"], color=\"orange\")\n"
   ]
  },
  {
   "cell_type": "code",
   "execution_count": 18,
   "metadata": {},
   "outputs": [
    {
     "data": {
      "text/plain": [
       "array([0, 0, 0, 0, 0, 0, 0, 0, 0, 0, 0, 0, 0, 0, 0, 0, 0, 0, 0, 0, 0, 0,\n",
       "       0, 0, 0, 0, 0, 0, 0, 0, 0, 0, 0, 0, 0, 0, 0, 0, 0, 0, 0, 0, 0, 0,\n",
       "       0, 0, 0, 0, 0, 0, 0, 0, 0, 1, 1, 1, 1, 1, 1, 1, 1, 1, 1, 1, 1, 1,\n",
       "       1, 1, 1, 1, 1, 1, 1, 1, 1, 1, 1, 1, 1, 1, 1, 1, 1, 1, 1, 1, 1, 1,\n",
       "       1, 1, 1, 1, 1, 1, 1, 1, 1, 1, 1, 1, 1, 1, 1, 1, 1, 1, 1, 1, 1, 1,\n",
       "       1, 1, 1, 1])"
      ]
     },
     "execution_count": 18,
     "metadata": {},
     "output_type": "execute_result"
    }
   ],
   "source": [
    "#look at the test_generator classes\n",
    "test_generator.classes"
   ]
  },
  {
   "cell_type": "code",
   "execution_count": 19,
   "metadata": {},
   "outputs": [
    {
     "data": {
      "text/plain": [
       "array([[4.70200612e-05, 9.99894619e-01],\n",
       "       [2.64268601e-06, 9.99999166e-01],\n",
       "       [9.75861847e-02, 9.52866316e-01],\n",
       "       [9.99786973e-01, 1.36971474e-04],\n",
       "       [3.52138281e-03, 9.97564852e-01],\n",
       "       [8.10927759e-06, 9.99991953e-01],\n",
       "       [9.95961428e-01, 1.99449062e-03],\n",
       "       [6.89506531e-04, 9.99158800e-01],\n",
       "       [4.81603165e-05, 9.99940872e-01],\n",
       "       [7.42197037e-04, 9.99355197e-01],\n",
       "       [2.96591247e-06, 9.99997377e-01],\n",
       "       [7.86166787e-02, 9.70741749e-01],\n",
       "       [7.54879713e-02, 9.41081047e-01],\n",
       "       [9.99878883e-01, 7.87622557e-05],\n",
       "       [9.99997675e-01, 1.65837889e-07],\n",
       "       [9.99881864e-01, 7.71719624e-06],\n",
       "       [1.37640834e-02, 9.88830090e-01],\n",
       "       [1.84536874e-02, 9.50903535e-01],\n",
       "       [8.85846138e-01, 1.86370283e-01],\n",
       "       [9.24831629e-03, 9.95454788e-01],\n",
       "       [2.47925520e-03, 9.95450914e-01],\n",
       "       [1.19804114e-01, 8.13250780e-01],\n",
       "       [9.93508995e-01, 6.31606579e-03],\n",
       "       [1.33621693e-03, 9.99255896e-01],\n",
       "       [1.68829262e-01, 9.40913200e-01],\n",
       "       [5.92142344e-04, 9.98133779e-01],\n",
       "       [9.76568758e-01, 2.13548541e-02],\n",
       "       [3.71910155e-01, 7.15806365e-01],\n",
       "       [7.36685514e-01, 3.05650622e-01],\n",
       "       [9.30772781e-01, 6.71238899e-02],\n",
       "       [3.39983106e-02, 9.77029085e-01],\n",
       "       [8.51583481e-03, 9.94768500e-01],\n",
       "       [9.49668884e-03, 9.93345737e-01],\n",
       "       [3.94498199e-01, 7.33986199e-01],\n",
       "       [7.14629889e-04, 9.99507070e-01],\n",
       "       [2.92956889e-01, 6.33188367e-01],\n",
       "       [3.45411062e-01, 7.35983014e-01],\n",
       "       [2.68958509e-02, 9.67089653e-01],\n",
       "       [9.80013311e-01, 3.99867594e-02],\n",
       "       [4.18702632e-01, 5.07177711e-01],\n",
       "       [3.60830933e-01, 6.34505868e-01],\n",
       "       [9.16720629e-01, 2.45796442e-02],\n",
       "       [2.61564016e-01, 4.76616144e-01],\n",
       "       [9.77344513e-01, 1.13070607e-02],\n",
       "       [3.35630655e-01, 3.79432082e-01],\n",
       "       [9.48931813e-01, 1.12382472e-02],\n",
       "       [1.37736201e-02, 9.72062469e-01],\n",
       "       [9.30980563e-01, 7.12473392e-02],\n",
       "       [1.29866272e-01, 7.96421349e-01],\n",
       "       [9.32885528e-01, 6.09761775e-02],\n",
       "       [3.49467397e-02, 9.88537669e-01],\n",
       "       [8.68586183e-01, 5.85414767e-02],\n",
       "       [3.00258398e-04, 9.99243379e-01],\n",
       "       [1.35125862e-12, 1.00000000e+00],\n",
       "       [3.82306439e-07, 9.99999702e-01],\n",
       "       [8.05825039e-06, 9.99997377e-01],\n",
       "       [1.01684847e-08, 1.00000000e+00],\n",
       "       [1.19089227e-09, 1.00000000e+00],\n",
       "       [2.73339391e-01, 7.87356734e-01],\n",
       "       [1.37162983e-08, 1.00000000e+00],\n",
       "       [6.07769971e-06, 9.99990344e-01],\n",
       "       [7.88331032e-04, 9.99106169e-01],\n",
       "       [2.20945050e-11, 1.00000000e+00],\n",
       "       [2.70118677e-10, 1.00000000e+00],\n",
       "       [5.32994591e-07, 9.99999464e-01],\n",
       "       [1.19384379e-06, 9.99999642e-01],\n",
       "       [2.30933506e-06, 9.99998927e-01],\n",
       "       [1.61649402e-10, 1.00000000e+00],\n",
       "       [3.64970738e-08, 1.00000000e+00],\n",
       "       [4.30131513e-05, 9.99904394e-01],\n",
       "       [1.76400918e-05, 9.99977767e-01],\n",
       "       [4.38195471e-08, 1.00000000e+00],\n",
       "       [5.85481574e-09, 1.00000000e+00],\n",
       "       [1.40497777e-05, 9.99992371e-01],\n",
       "       [6.85241908e-09, 1.00000000e+00],\n",
       "       [4.74262561e-06, 9.99993443e-01],\n",
       "       [4.14264202e-03, 9.96155500e-01],\n",
       "       [4.63666048e-08, 9.99999762e-01],\n",
       "       [9.51465964e-03, 9.93273377e-01],\n",
       "       [1.00102723e-02, 9.93022919e-01],\n",
       "       [2.26435204e-09, 1.00000000e+00],\n",
       "       [5.06409855e-13, 1.00000000e+00],\n",
       "       [1.50720246e-06, 9.99999285e-01],\n",
       "       [6.13749027e-03, 9.76752043e-01],\n",
       "       [1.81225240e-02, 9.89236236e-01],\n",
       "       [5.81227303e-01, 2.46300131e-01],\n",
       "       [1.05369822e-04, 9.99838352e-01],\n",
       "       [2.41276622e-03, 9.98484492e-01],\n",
       "       [8.11630487e-03, 9.91699100e-01],\n",
       "       [3.17913282e-06, 9.99991238e-01],\n",
       "       [6.23792075e-05, 9.99622703e-01],\n",
       "       [6.69160238e-09, 1.00000000e+00],\n",
       "       [2.14613619e-13, 1.00000000e+00],\n",
       "       [3.07174304e-07, 9.99999166e-01],\n",
       "       [2.33728792e-06, 9.99998271e-01],\n",
       "       [1.07858927e-04, 9.99775648e-01],\n",
       "       [7.54448320e-06, 9.99995649e-01],\n",
       "       [2.38890289e-06, 9.99997675e-01],\n",
       "       [2.98530256e-10, 1.00000000e+00],\n",
       "       [2.30579182e-08, 1.00000000e+00],\n",
       "       [1.25557184e-03, 9.93569791e-01],\n",
       "       [1.08430172e-08, 1.00000000e+00],\n",
       "       [3.86386176e-08, 1.00000000e+00],\n",
       "       [1.18096732e-08, 1.00000000e+00],\n",
       "       [8.09668919e-08, 1.00000000e+00],\n",
       "       [2.95846748e-05, 9.99842227e-01],\n",
       "       [1.75702031e-08, 1.00000000e+00],\n",
       "       [9.89213572e-12, 1.00000000e+00],\n",
       "       [1.10057219e-09, 1.00000000e+00],\n",
       "       [1.75863504e-04, 9.99711156e-01],\n",
       "       [1.84638016e-09, 1.00000000e+00],\n",
       "       [2.05989236e-05, 9.99961078e-01],\n",
       "       [4.65000767e-06, 9.99986768e-01],\n",
       "       [3.67761988e-10, 1.00000000e+00]], dtype=float32)"
      ]
     },
     "execution_count": 19,
     "metadata": {},
     "output_type": "execute_result"
    }
   ],
   "source": [
    "#make predictions using tet data\n",
    "\n",
    "predictions = model.predict(test_generator)\n",
    "predictions"
   ]
  },
  {
   "cell_type": "code",
   "execution_count": 21,
   "metadata": {},
   "outputs": [
    {
     "data": {
      "text/plain": [
       "array([1, 1, 1, 0, 1, 1, 0, 1, 1, 1, 1, 1, 1, 0, 0, 0, 1, 1, 0, 1, 1, 1,\n",
       "       0, 1, 1, 1, 0, 1, 0, 0, 1, 1, 1, 1, 1, 1, 1, 1, 0, 1, 1, 0, 1, 0,\n",
       "       1, 0, 1, 0, 1, 0, 1, 0, 1, 1, 1, 1, 1, 1, 1, 1, 1, 1, 1, 1, 1, 1,\n",
       "       1, 1, 1, 1, 1, 1, 1, 1, 1, 1, 1, 1, 1, 1, 1, 1, 1, 1, 1, 0, 1, 1,\n",
       "       1, 1, 1, 1, 1, 1, 1, 1, 1, 1, 1, 1, 1, 1, 1, 1, 1, 1, 1, 1, 1, 1,\n",
       "       1, 1, 1, 1], dtype=int64)"
      ]
     },
     "execution_count": 21,
     "metadata": {},
     "output_type": "execute_result"
    }
   ],
   "source": [
    "# use numpy to get predicted classes out\n",
    "\n",
    "single_pred = np.argmax(predictions, axis=1)\n",
    "single_pred"
   ]
  },
  {
   "cell_type": "code",
   "execution_count": 23,
   "metadata": {},
   "outputs": [
    {
     "data": {
      "text/plain": [
       "array([[17, 36],\n",
       "       [ 1, 60]], dtype=int64)"
      ]
     },
     "execution_count": 23,
     "metadata": {},
     "output_type": "execute_result"
    }
   ],
   "source": [
    "confusion_matrix(test_generator.classes, single_pred)"
   ]
  },
  {
   "cell_type": "code",
   "execution_count": null,
   "metadata": {},
   "outputs": [],
   "source": [
    "#predictions\n",
    "#                     0    1\n",
    "# actual 0           TN   FP\n",
    "#        1           FN   TP"
   ]
  },
  {
   "cell_type": "code",
   "execution_count": 25,
   "metadata": {},
   "outputs": [
    {
     "name": "stdout",
     "output_type": "stream",
     "text": [
      "              precision    recall  f1-score   support\n",
      "\n",
      "           0       0.94      0.32      0.48        53\n",
      "           1       0.62      0.98      0.76        61\n",
      "\n",
      "    accuracy                           0.68       114\n",
      "   macro avg       0.78      0.65      0.62       114\n",
      "weighted avg       0.77      0.68      0.63       114\n",
      "\n"
     ]
    }
   ],
   "source": [
    "print(classification_report(test_generator.classes, single_pred))"
   ]
  },
  {
   "cell_type": "code",
   "execution_count": 29,
   "metadata": {},
   "outputs": [
    {
     "data": {
      "text/plain": [
       "<keras.engine.functional.Functional at 0x2301ab523d0>"
      ]
     },
     "execution_count": 29,
     "metadata": {},
     "output_type": "execute_result"
    }
   ],
   "source": [
    "from keras.models import load_model\n",
    "\n",
    "saved_model = load_model(\"best_model.h5\")\n",
    "saved_model"
   ]
  },
  {
   "cell_type": "code",
   "execution_count": 30,
   "metadata": {},
   "outputs": [],
   "source": [
    "saved_model_predictions = saved_model.predict(test_generator)\n",
    "saved_single_pred = np.argmax(saved_model_predictions, axis=1)"
   ]
  },
  {
   "cell_type": "code",
   "execution_count": 31,
   "metadata": {},
   "outputs": [
    {
     "data": {
      "text/plain": [
       "array([[24, 29],\n",
       "       [ 0, 61]], dtype=int64)"
      ]
     },
     "execution_count": 31,
     "metadata": {},
     "output_type": "execute_result"
    }
   ],
   "source": [
    "confusion_matrix(test_generator.classes, saved_single_pred)\n"
   ]
  },
  {
   "cell_type": "code",
   "execution_count": 32,
   "metadata": {},
   "outputs": [
    {
     "name": "stdout",
     "output_type": "stream",
     "text": [
      "              precision    recall  f1-score   support\n",
      "\n",
      "           0       1.00      0.45      0.62        53\n",
      "           1       0.68      1.00      0.81        61\n",
      "\n",
      "    accuracy                           0.75       114\n",
      "   macro avg       0.84      0.73      0.72       114\n",
      "weighted avg       0.83      0.75      0.72       114\n",
      "\n"
     ]
    }
   ],
   "source": [
    "print(classification_report(test_generator.classes, saved_single_pred))"
   ]
  },
  {
   "cell_type": "code",
   "execution_count": null,
   "metadata": {},
   "outputs": [],
   "source": []
  },
  {
   "cell_type": "markdown",
   "metadata": {},
   "source": [
    "### Room for improvement\n",
    "\n",
    "1. Try different pre-trained models\n",
    "2. Add adittional layers to pre-trained model\n",
    "3. Change drop-out layer[ 0.2, 0.8]\n",
    "4. Add things that the autors mentioned\n"
   ]
  }
 ],
 "metadata": {
  "interpreter": {
   "hash": "2be5faf79681da6f2a61fdfdd5405d65d042280f7fba6178067603e3a2925119"
  },
  "kernelspec": {
   "display_name": "Python 3.10.2 64-bit",
   "language": "python",
   "name": "python3"
  },
  "language_info": {
   "codemirror_mode": {
    "name": "ipython",
    "version": 3
   },
   "file_extension": ".py",
   "mimetype": "text/x-python",
   "name": "python",
   "nbconvert_exporter": "python",
   "pygments_lexer": "ipython3",
   "version": "3.9.12"
  },
  "orig_nbformat": 4
 },
 "nbformat": 4,
 "nbformat_minor": 2
}
